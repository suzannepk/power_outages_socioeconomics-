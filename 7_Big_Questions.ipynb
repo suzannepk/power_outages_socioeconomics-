{
 "cells": [
  {
   "cell_type": "markdown",
   "id": "0bc630a9",
   "metadata": {},
   "source": [
    "# Answering the big questions!\n",
    "\n",
    "Now for the real fun! Feel free to use this notebook and create additional ones to work through answering the Big Questions. Apply what you learned about using Pandas and the various other tools to load the data and analyze it. Call one of the trainers or peer mentors to assist if you're stuck.\n",
    "\n",
    "Good luck!!\n",
    "\n",
    "### Goals:\n",
    "\n",
    "* Discuss access to electrical power and the cost burden for that access and how those issues relate to poverty.\n",
    "* Understand how to use statistical tests to justify correlations.\n",
    "* Understand how to create and use visualizations to show connections and correlations in big data.\n",
    "* Utilize Python and Excel to explore large data frames.\n",
    "* Discuss how doing tasks in parallel is more efficient than doing them in series.\n",
    "* Explain the assumptions you made in your analysis. \n",
    "  * For example, if you use “total customers” for a given region to represent relative total populations between counties, acknowledge that while the members of one household are all counted as one customer and businesses are a customer too, \"total customers\" is still a measure of relative size of the populations of customers living in each county.\n",
    "\n",
    "\n",
    "### The Big Questions for this Project:\n",
    "\n",
    "| Question | <div align=\"left\">Description</div>| Datasets |\n",
    "| :------- | :------- |:------ |\n",
    "| 1. | <ul><li>Which counties were hit with the highest temperatures during the heatwave between June 17 to 24, 2016?</li><li>Can you show it visually?</li></ul>| CtyAvTemp62016.csv |\n",
    "| 2. | <ul><li>Can you show the average number of customers without power per county during the heatwave?</li><li>Can you visualize it for the whole US? </li></ul>| eaglei_outages_2016.csv, CtyAvTemp62016.csv |\n",
    "| 3. | <ul><li>Do counties with many people living below the poverty line have more power outages on average than wealthier counties? </li><li>Can you use statistical tests to justify your answer?</li><li>Is what you found true generally for all counties in the study?</li><li> Is it still true for the counties hardest hit by the heatwave during the heatwave? </li><li>Are there any other factors expressed in the data that correlate with large numbers of outages per county? </li></ul>| CtyAvDemog2010.csv, eaglei_outages_2016.csv |\n",
    "| 4. | <ul><li>Do citizens living below the poverty level bear a greater share of the energy burden in most counties?</li><li>Can you use statistical tests to justify your answer?</li><li>What does this look like for the counties that you identified as impacted most by the heatwave? </li></ul>  | CtyAvDemog2010.csv, eaglei_outages_2016.csv |\n",
    "\n",
    "\n",
    "\n",
    "You are doing super well if you get through question 4! Questions 5 and 6 are stretch goals.  \n",
    "\n",
    "| Question | <div align=\"left\">Description</div>| Datasets |\n",
    "| :------- | :------- |:------ |\n",
    "| 5. | Can you tell if the number of customers without power is correlated with the highest temperatures? | eaglei_outages_2016.csv and ones you find!        |\n",
    "| 6. | <ul><li>How is the region you are from doing with energy justice? </li><li>How does it compare to other regions of the US? </li><li>Defend how you define \"Region\" </li><li>Look for data on the internet about another natural disaster that happened between 2015 and 2021. </li><li>See if you can repeat the analysis for it.</li></ul>| eaglei_outages_2016.csv, additional datasets|\n",
    "\n",
    "\n",
    "**Note** You do not have to tackle the Big Questions with the exercises given in this guide if you have another plan in mind to work with. These are here to help you get started and are not mandatory.\n",
    "\n",
    "\n",
    "### The Final Product:\n",
    "\n",
    "You will combine your visualizations and insights from answering the big questions into a presentation that you will give on the last day of the workshop.\n",
    "\n",
    "## Important Notes on the Big Questions:\n",
    "\n",
    "* Not all team members need to work on all exercises and questions. It would be best to split up the work. It is fine if you cannot answer all the big questions or all their parts.\n",
    "\n",
    "* You will need to answer basics of the first four questions to completely meet the first goal of this project.\n",
    "\n",
    "* You will need to answer questions 1 and 2 to answer questions 3.\n",
    "\n",
    "* Question 4 can be mostly answered by using just the CtyAvDemog2010.csv data.\n",
    "\n",
    "* Question 5 will require you to find more data than we have provided and do a lot of interpolation. I suggest you start by googling “Hourly temperature for LA for June 20, 2016”. Remember that your eagle-I data's time is given in UTC.\n"
   ]
  },
  {
   "cell_type": "code",
   "execution_count": null,
   "id": "8c077d09",
   "metadata": {},
   "outputs": [],
   "source": []
  }
 ],
 "metadata": {
  "kernelspec": {
   "display_name": "Python 3 (ipykernel)",
   "language": "python",
   "name": "python3"
  },
  "language_info": {
   "codemirror_mode": {
    "name": "ipython",
    "version": 3
   },
   "file_extension": ".py",
   "mimetype": "text/x-python",
   "name": "python",
   "nbconvert_exporter": "python",
   "pygments_lexer": "ipython3",
   "version": "3.11.4"
  }
 },
 "nbformat": 4,
 "nbformat_minor": 5
}
