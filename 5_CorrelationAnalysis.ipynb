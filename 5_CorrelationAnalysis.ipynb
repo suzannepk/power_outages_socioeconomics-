{
 "cells": [
  {
   "cell_type": "markdown",
   "metadata": {},
   "source": [
    "# Correlation and Causation\n",
    "\n",
    "_This will allow you to put quantitative power behind the insights you get from your visualizations and may be particularly helpful for answering parts of big question 3._\n",
    "\n",
    "What does it mean to for two variables to be correlated? \n",
    "\n",
    "It means that two quantities share an associated relationship. Quantities can be positively correlated so that as one increases, so does the other or negatively correlated so that an increase in one may correlate to a decrease in the other. A correlation between two quantities does not mean than the change in one is caused by the change in the other. Both quantities could be changing because of other unexplored factors that may or may not be causally related. \n",
    "\n",
    "For example, global average temperatures can be shown to have a negative correlation to the number of practicing global maritime pirates.  https://www.linkedin.com/pulse/pirates-global-warming-correlation-causation-changing-sarah-casey/ Clearly, the decrease in pirates is not causally driving climate change. \n",
    "\n",
    "Causation is more complicated than correlation and requires more lines of evidence and methods to prove, though a combination of correlations may help identify causal relationships. For this challenge, we will stick to searching for correlations. \n",
    "\n",
    "Correlation can sometimes be seen obviously in a plot or visualization of the data. However, often it is not easy to visually identify a correlation. Statistics gives us methods to quantify correlation between quantities. Which statistics tools should be used to measure correlation depends on how the data is distributed. There are several methods.\n",
    " \n",
    "\n",
    "\n",
    "## Tools\n",
    "\n",
    "\n",
    "We will explore two tools in this challenge’s tutorial, the Pearson correlation, and the Spearman Rank correlation. We will also explorethe p-value which gives an indication of the statistical significance of a correlation.\n",
    "\n",
    "For details, see https://www.statisticssolutions.com/free-resources/directory-of-statistical-analyses/correlation-pearson-kendall-spearman/.\n",
    "\n",
    "## Pearson Correlation\n",
    "\n",
    "The Pearson correlation is appropriate for data meeting the two following characteristics: \n",
    "\n",
    "* The two quantities you are exploring are each normally distributed, meaning a plot of how frequently each value in the data set occurs forms a bell curve (see https://www.sigmamagic.com/blogs/is-my-data-normally-distributed/).\n",
    "* The two quantities show a mostly linear relationship when one variable is plotted against the other.\n",
    "\n",
    "![Pearson Correlation](images/pearson_correlation.png)\n",
    "\n",
    "(Source: John Ray Cuevas: \n",
    "https://discover.hubpages.com/education/Differences-Between-Spearman-Rank-Correlation-and-Pearson-Correlation))\n",
    "\n",
    "The Pearson correlation scores the data between -1 and 1. Two variables that increase linearly together will have a score closer to 1. Variables that show a relationship where one increases as the other decreases will have a score nearer -1. Variables that don’t show a relationship will have a score near 0. \n",
    "\n",
    "## Spearman Rank Correlation \n",
    "\n",
    "The Spearman correlation also measures the degree of association between two variables. \n",
    "\n",
    "* The data does not have to be normally distributed for this method to show association.\n",
    "* The data however must be ordinate, meaning that both quantities of data that you are comparing must be rankable (can be ordered from largest to smallest). See https://careerfoundry.com/en/blog/data-analytics/what-is-ordinal-data/#an-introduction-to-the-four-different-types-of-data\n",
    "\n",
    "Example: hair color itself is not a meaningfully rankable quantity but the number of people with a specific hair color is a rankable quantity, so it is ordinate.\n",
    "\n",
    "The Spearman Rank Correlation tells you that the data either increases or decreases monotonically. It makes no assumptions about the linearity of the relationship or the distribution of the data.\n",
    "\n",
    "![Spearman Correlation](images/spearman_correlation.png)\n",
    "(Source: John Ray Cuevas: \n",
    "https://discover.hubpages.com/education/Differences-Between-Spearman-Rank-Correlation-and-Pearson-Correlation)\n",
    "\n",
    "Spearman Rank scores vary between -1 and 1. A score closer to 1 indicates positive associations and scores nearer negative 1 indicate negative associations. Scores near 0 indicate no association. \n",
    "\n",
    "## Probability Value (P-Value) \n",
    "\n",
    "The p-value is a measure of how likely associations found between different quantities in the data are due to be the result of random chance rather than a statistical significant correlation. The level of statistical significance is often expressed as a p-value between 0 and 1. For either the Pearson or the Spearman rank correlation tests, you need to find the p-value too to show that an association is statistically significant. The smaller the p-value, the less likely the results occurded by random chance, and the stronger the evidence that you have found a significant association between variables in your data set. \n",
    "\n",
    "You can use the Statistics package in Scipy to do the Pearson or Spearman tests and the p-value.\n",
    "\n",
    "See: https://www.simplypsychology.org/p-value.html\n",
    "\n",
    "Note:\n",
    "These types of statistical tests are necessary for finding correlations in data because real data sets generally have many data points that lie outside the main line of a given trend, so the trends are not always easy to spot and classify visually in plots of the da## Experiment with Correlation\n",
    "\n",
    "Let's explore correlation with our movie dataset. \n",
    "\n",
    "Run the cells below and read along:\n"
   ]
  },
  {
   "cell_type": "markdown",
   "metadata": {},
   "source": [
    "### Loading Dataset: Reading excel files and filtering data with pandas\n",
    "\n",
    "Importing data from excel into a pandas DataFrame is easy and can be accomplished using the read_excel() function. A pandas DataFrame data structure can be thought of as an excel spreadsheet in python and is laid out similarly with labeled rows and columns of data (the difference being the way it is stored under the hood using multidimensional arrays that allow it to be accessed and used easier in a programmatical fashion). Let's play around with Pandas with an example excel file 2020-movie-data.xlsx (you can download it from the google drive and place it in the data directory).\n"
   ]
  },
  {
   "cell_type": "code",
   "execution_count": 1,
   "metadata": {
    "scrolled": true
   },
   "outputs": [
    {
     "data": {
      "text/html": [
       "<div>\n",
       "<style scoped>\n",
       "    .dataframe tbody tr th:only-of-type {\n",
       "        vertical-align: middle;\n",
       "    }\n",
       "\n",
       "    .dataframe tbody tr th {\n",
       "        vertical-align: top;\n",
       "    }\n",
       "\n",
       "    .dataframe thead th {\n",
       "        text-align: right;\n",
       "    }\n",
       "</style>\n",
       "<table border=\"1\" class=\"dataframe\">\n",
       "  <thead>\n",
       "    <tr style=\"text-align: right;\">\n",
       "      <th></th>\n",
       "      <th>STUDIO</th>\n",
       "      <th>DATE</th>\n",
       "      <th>MOVIE</th>\n",
       "      <th>BUDGET</th>\n",
       "      <th>BOX OFFICE</th>\n",
       "      <th>MULTIPLIER</th>\n",
       "      <th>TYPE</th>\n",
       "    </tr>\n",
       "  </thead>\n",
       "  <tbody>\n",
       "    <tr>\n",
       "      <th>0</th>\n",
       "      <td>SONY</td>\n",
       "      <td>2020-01-03</td>\n",
       "      <td>The Grudge</td>\n",
       "      <td>10000000</td>\n",
       "      <td>49400000</td>\n",
       "      <td>4.94</td>\n",
       "      <td>Franchise</td>\n",
       "    </tr>\n",
       "    <tr>\n",
       "      <th>1</th>\n",
       "      <td>FOX</td>\n",
       "      <td>2020-01-10</td>\n",
       "      <td>Underwater</td>\n",
       "      <td>65000000</td>\n",
       "      <td>39200000</td>\n",
       "      <td>0.60</td>\n",
       "      <td>Original</td>\n",
       "    </tr>\n",
       "    <tr>\n",
       "      <th>2</th>\n",
       "      <td>PARAMOUNT</td>\n",
       "      <td>2020-01-10</td>\n",
       "      <td>Like A Boss</td>\n",
       "      <td>29000000</td>\n",
       "      <td>26100000</td>\n",
       "      <td>0.90</td>\n",
       "      <td>Original</td>\n",
       "    </tr>\n",
       "    <tr>\n",
       "      <th>3</th>\n",
       "      <td>SONY</td>\n",
       "      <td>2020-01-17</td>\n",
       "      <td>Bad Boys for Life</td>\n",
       "      <td>90000000</td>\n",
       "      <td>417600000</td>\n",
       "      <td>4.64</td>\n",
       "      <td>Sequel</td>\n",
       "    </tr>\n",
       "    <tr>\n",
       "      <th>4</th>\n",
       "      <td>UNIVERSAL</td>\n",
       "      <td>2020-01-17</td>\n",
       "      <td>Dolittle</td>\n",
       "      <td>175000000</td>\n",
       "      <td>223300000</td>\n",
       "      <td>1.28</td>\n",
       "      <td>Reboot</td>\n",
       "    </tr>\n",
       "    <tr>\n",
       "      <th>5</th>\n",
       "      <td>UNIVERSAL</td>\n",
       "      <td>2020-01-24</td>\n",
       "      <td>The Turning</td>\n",
       "      <td>14000000</td>\n",
       "      <td>18500000</td>\n",
       "      <td>1.32</td>\n",
       "      <td>Novel</td>\n",
       "    </tr>\n",
       "    <tr>\n",
       "      <th>6</th>\n",
       "      <td>PARAMOUNT</td>\n",
       "      <td>2020-01-31</td>\n",
       "      <td>The Rhythm Section</td>\n",
       "      <td>50000000</td>\n",
       "      <td>5900000</td>\n",
       "      <td>0.12</td>\n",
       "      <td>Novel</td>\n",
       "    </tr>\n",
       "    <tr>\n",
       "      <th>7</th>\n",
       "      <td>WARNER</td>\n",
       "      <td>2020-02-07</td>\n",
       "      <td>Birds of Prey</td>\n",
       "      <td>84500000</td>\n",
       "      <td>197900000</td>\n",
       "      <td>2.34</td>\n",
       "      <td>Franchise</td>\n",
       "    </tr>\n",
       "    <tr>\n",
       "      <th>8</th>\n",
       "      <td>FOX</td>\n",
       "      <td>2020-02-14</td>\n",
       "      <td>Downhill (Searchlight)</td>\n",
       "      <td>15000000</td>\n",
       "      <td>8800000</td>\n",
       "      <td>0.59</td>\n",
       "      <td>Original</td>\n",
       "    </tr>\n",
       "    <tr>\n",
       "      <th>9</th>\n",
       "      <td>PARAMOUNT</td>\n",
       "      <td>2020-02-14</td>\n",
       "      <td>Sonic the Hedgehog</td>\n",
       "      <td>85000000</td>\n",
       "      <td>299600000</td>\n",
       "      <td>3.52</td>\n",
       "      <td>IP</td>\n",
       "    </tr>\n",
       "    <tr>\n",
       "      <th>10</th>\n",
       "      <td>SONY</td>\n",
       "      <td>2020-02-14</td>\n",
       "      <td>Fantasy Island</td>\n",
       "      <td>7000000</td>\n",
       "      <td>45900000</td>\n",
       "      <td>6.56</td>\n",
       "      <td>IP</td>\n",
       "    </tr>\n",
       "    <tr>\n",
       "      <th>11</th>\n",
       "      <td>UNIVERSAL</td>\n",
       "      <td>2020-02-14</td>\n",
       "      <td>The Photograph</td>\n",
       "      <td>16000000</td>\n",
       "      <td>20700000</td>\n",
       "      <td>1.29</td>\n",
       "      <td>Original</td>\n",
       "    </tr>\n",
       "    <tr>\n",
       "      <th>12</th>\n",
       "      <td>FOX</td>\n",
       "      <td>2020-02-21</td>\n",
       "      <td>The Call of the Wild</td>\n",
       "      <td>135000000</td>\n",
       "      <td>107300000</td>\n",
       "      <td>0.79</td>\n",
       "      <td>Novel</td>\n",
       "    </tr>\n",
       "    <tr>\n",
       "      <th>13</th>\n",
       "      <td>UNIVERSAL</td>\n",
       "      <td>2020-02-28</td>\n",
       "      <td>The Invisible Man</td>\n",
       "      <td>7000000</td>\n",
       "      <td>122700000</td>\n",
       "      <td>17.53</td>\n",
       "      <td>Novel</td>\n",
       "    </tr>\n",
       "    <tr>\n",
       "      <th>14</th>\n",
       "      <td>DISNEY</td>\n",
       "      <td>2020-03-06</td>\n",
       "      <td>Onward</td>\n",
       "      <td>175000000</td>\n",
       "      <td>101700000</td>\n",
       "      <td>0.58</td>\n",
       "      <td>Original</td>\n",
       "    </tr>\n",
       "    <tr>\n",
       "      <th>15</th>\n",
       "      <td>WARNER</td>\n",
       "      <td>2020-03-06</td>\n",
       "      <td>The Way Back</td>\n",
       "      <td>25000000</td>\n",
       "      <td>14100000</td>\n",
       "      <td>0.56</td>\n",
       "      <td>Original</td>\n",
       "    </tr>\n",
       "    <tr>\n",
       "      <th>16</th>\n",
       "      <td>LIONSGATE</td>\n",
       "      <td>2020-03-13</td>\n",
       "      <td>I Still Believe</td>\n",
       "      <td>7000000</td>\n",
       "      <td>9500000</td>\n",
       "      <td>1.36</td>\n",
       "      <td>Biopic</td>\n",
       "    </tr>\n",
       "    <tr>\n",
       "      <th>17</th>\n",
       "      <td>SONY</td>\n",
       "      <td>2020-03-13</td>\n",
       "      <td>Bloodshot</td>\n",
       "      <td>45000000</td>\n",
       "      <td>24400000</td>\n",
       "      <td>0.54</td>\n",
       "      <td>IP</td>\n",
       "    </tr>\n",
       "    <tr>\n",
       "      <th>18</th>\n",
       "      <td>UNIVERSAL</td>\n",
       "      <td>2020-03-13</td>\n",
       "      <td>The Hunt</td>\n",
       "      <td>14000000</td>\n",
       "      <td>6000000</td>\n",
       "      <td>0.43</td>\n",
       "      <td>Original</td>\n",
       "    </tr>\n",
       "  </tbody>\n",
       "</table>\n",
       "</div>"
      ],
      "text/plain": [
       "       STUDIO       DATE                   MOVIE     BUDGET  BOX OFFICE  \\\n",
       "0        SONY 2020-01-03              The Grudge   10000000    49400000   \n",
       "1         FOX 2020-01-10              Underwater   65000000    39200000   \n",
       "2   PARAMOUNT 2020-01-10             Like A Boss   29000000    26100000   \n",
       "3        SONY 2020-01-17       Bad Boys for Life   90000000   417600000   \n",
       "4   UNIVERSAL 2020-01-17                Dolittle  175000000   223300000   \n",
       "5   UNIVERSAL 2020-01-24             The Turning   14000000    18500000   \n",
       "6   PARAMOUNT 2020-01-31      The Rhythm Section   50000000     5900000   \n",
       "7      WARNER 2020-02-07           Birds of Prey   84500000   197900000   \n",
       "8         FOX 2020-02-14  Downhill (Searchlight)   15000000     8800000   \n",
       "9   PARAMOUNT 2020-02-14      Sonic the Hedgehog   85000000   299600000   \n",
       "10       SONY 2020-02-14          Fantasy Island    7000000    45900000   \n",
       "11  UNIVERSAL 2020-02-14          The Photograph   16000000    20700000   \n",
       "12        FOX 2020-02-21    The Call of the Wild  135000000   107300000   \n",
       "13  UNIVERSAL 2020-02-28       The Invisible Man    7000000   122700000   \n",
       "14     DISNEY 2020-03-06                  Onward  175000000   101700000   \n",
       "15     WARNER 2020-03-06            The Way Back   25000000    14100000   \n",
       "16  LIONSGATE 2020-03-13         I Still Believe    7000000     9500000   \n",
       "17       SONY 2020-03-13               Bloodshot   45000000    24400000   \n",
       "18  UNIVERSAL 2020-03-13                The Hunt   14000000     6000000   \n",
       "\n",
       "    MULTIPLIER       TYPE  \n",
       "0         4.94  Franchise  \n",
       "1         0.60   Original  \n",
       "2         0.90   Original  \n",
       "3         4.64     Sequel  \n",
       "4         1.28     Reboot  \n",
       "5         1.32      Novel  \n",
       "6         0.12      Novel  \n",
       "7         2.34  Franchise  \n",
       "8         0.59   Original  \n",
       "9         3.52         IP  \n",
       "10        6.56         IP  \n",
       "11        1.29   Original  \n",
       "12        0.79      Novel  \n",
       "13       17.53      Novel  \n",
       "14        0.58   Original  \n",
       "15        0.56   Original  \n",
       "16        1.36     Biopic  \n",
       "17        0.54         IP  \n",
       "18        0.43   Original  "
      ]
     },
     "execution_count": 1,
     "metadata": {},
     "output_type": "execute_result"
    }
   ],
   "source": [
    "# import the pandas package under the alias pd\n",
    "import pandas as pd\n",
    "\n",
    "# create a variable to hold the excel file name (optional - can also put the filename directly into the read_excel() function) \n",
    "excel_file = 'data/2020-movie-data.xlsx' # make sure this file is downloaded and placed in the data folder\n",
    "# create a variable to hold the pandas DataFrame object\n",
    "movie_df = pd.read_excel(excel_file)\n",
    "\n",
    "# prints the DataFrame to the screen\n",
    "movie_df"
   ]
  },
  {
   "cell_type": "code",
   "execution_count": 2,
   "metadata": {},
   "outputs": [],
   "source": [
    "# Import the pyplot package from matplotlib as plt\n",
    "from matplotlib import pyplot as plt\n",
    "\n",
    "# Create a new DataFrame that is sorted by the BUDGET column\n",
    "df_sorted = movie_df.sort_values(by='BUDGET')"
   ]
  },
  {
   "cell_type": "markdown",
   "metadata": {},
   "source": [
    "For this experiment we will test to see if the data shows if a movie's budget is correlated with its gross profits. \n",
    "\n",
    "Let's try sorting the data based on profit. We'll use matpolotlib again for this. It is already loaded above so you don't need to reload it. \n"
   ]
  },
  {
   "cell_type": "code",
   "execution_count": 3,
   "metadata": {},
   "outputs": [
    {
     "data": {
      "text/html": [
       "<div>\n",
       "<style scoped>\n",
       "    .dataframe tbody tr th:only-of-type {\n",
       "        vertical-align: middle;\n",
       "    }\n",
       "\n",
       "    .dataframe tbody tr th {\n",
       "        vertical-align: top;\n",
       "    }\n",
       "\n",
       "    .dataframe thead th {\n",
       "        text-align: right;\n",
       "    }\n",
       "</style>\n",
       "<table border=\"1\" class=\"dataframe\">\n",
       "  <thead>\n",
       "    <tr style=\"text-align: right;\">\n",
       "      <th></th>\n",
       "      <th>STUDIO</th>\n",
       "      <th>DATE</th>\n",
       "      <th>MOVIE</th>\n",
       "      <th>BUDGET</th>\n",
       "      <th>BOX OFFICE</th>\n",
       "      <th>MULTIPLIER</th>\n",
       "      <th>TYPE</th>\n",
       "      <th>GROSS PROFIT</th>\n",
       "    </tr>\n",
       "  </thead>\n",
       "  <tbody>\n",
       "    <tr>\n",
       "      <th>14</th>\n",
       "      <td>DISNEY</td>\n",
       "      <td>2020-03-06</td>\n",
       "      <td>Onward</td>\n",
       "      <td>175000000</td>\n",
       "      <td>101700000</td>\n",
       "      <td>0.58</td>\n",
       "      <td>Original</td>\n",
       "      <td>-73300000</td>\n",
       "    </tr>\n",
       "    <tr>\n",
       "      <th>6</th>\n",
       "      <td>PARAMOUNT</td>\n",
       "      <td>2020-01-31</td>\n",
       "      <td>The Rhythm Section</td>\n",
       "      <td>50000000</td>\n",
       "      <td>5900000</td>\n",
       "      <td>0.12</td>\n",
       "      <td>Novel</td>\n",
       "      <td>-44100000</td>\n",
       "    </tr>\n",
       "    <tr>\n",
       "      <th>12</th>\n",
       "      <td>FOX</td>\n",
       "      <td>2020-02-21</td>\n",
       "      <td>The Call of the Wild</td>\n",
       "      <td>135000000</td>\n",
       "      <td>107300000</td>\n",
       "      <td>0.79</td>\n",
       "      <td>Novel</td>\n",
       "      <td>-27700000</td>\n",
       "    </tr>\n",
       "    <tr>\n",
       "      <th>1</th>\n",
       "      <td>FOX</td>\n",
       "      <td>2020-01-10</td>\n",
       "      <td>Underwater</td>\n",
       "      <td>65000000</td>\n",
       "      <td>39200000</td>\n",
       "      <td>0.60</td>\n",
       "      <td>Original</td>\n",
       "      <td>-25800000</td>\n",
       "    </tr>\n",
       "    <tr>\n",
       "      <th>17</th>\n",
       "      <td>SONY</td>\n",
       "      <td>2020-03-13</td>\n",
       "      <td>Bloodshot</td>\n",
       "      <td>45000000</td>\n",
       "      <td>24400000</td>\n",
       "      <td>0.54</td>\n",
       "      <td>IP</td>\n",
       "      <td>-20600000</td>\n",
       "    </tr>\n",
       "    <tr>\n",
       "      <th>15</th>\n",
       "      <td>WARNER</td>\n",
       "      <td>2020-03-06</td>\n",
       "      <td>The Way Back</td>\n",
       "      <td>25000000</td>\n",
       "      <td>14100000</td>\n",
       "      <td>0.56</td>\n",
       "      <td>Original</td>\n",
       "      <td>-10900000</td>\n",
       "    </tr>\n",
       "    <tr>\n",
       "      <th>18</th>\n",
       "      <td>UNIVERSAL</td>\n",
       "      <td>2020-03-13</td>\n",
       "      <td>The Hunt</td>\n",
       "      <td>14000000</td>\n",
       "      <td>6000000</td>\n",
       "      <td>0.43</td>\n",
       "      <td>Original</td>\n",
       "      <td>-8000000</td>\n",
       "    </tr>\n",
       "    <tr>\n",
       "      <th>8</th>\n",
       "      <td>FOX</td>\n",
       "      <td>2020-02-14</td>\n",
       "      <td>Downhill (Searchlight)</td>\n",
       "      <td>15000000</td>\n",
       "      <td>8800000</td>\n",
       "      <td>0.59</td>\n",
       "      <td>Original</td>\n",
       "      <td>-6200000</td>\n",
       "    </tr>\n",
       "    <tr>\n",
       "      <th>2</th>\n",
       "      <td>PARAMOUNT</td>\n",
       "      <td>2020-01-10</td>\n",
       "      <td>Like A Boss</td>\n",
       "      <td>29000000</td>\n",
       "      <td>26100000</td>\n",
       "      <td>0.90</td>\n",
       "      <td>Original</td>\n",
       "      <td>-2900000</td>\n",
       "    </tr>\n",
       "    <tr>\n",
       "      <th>16</th>\n",
       "      <td>LIONSGATE</td>\n",
       "      <td>2020-03-13</td>\n",
       "      <td>I Still Believe</td>\n",
       "      <td>7000000</td>\n",
       "      <td>9500000</td>\n",
       "      <td>1.36</td>\n",
       "      <td>Biopic</td>\n",
       "      <td>2500000</td>\n",
       "    </tr>\n",
       "    <tr>\n",
       "      <th>5</th>\n",
       "      <td>UNIVERSAL</td>\n",
       "      <td>2020-01-24</td>\n",
       "      <td>The Turning</td>\n",
       "      <td>14000000</td>\n",
       "      <td>18500000</td>\n",
       "      <td>1.32</td>\n",
       "      <td>Novel</td>\n",
       "      <td>4500000</td>\n",
       "    </tr>\n",
       "    <tr>\n",
       "      <th>11</th>\n",
       "      <td>UNIVERSAL</td>\n",
       "      <td>2020-02-14</td>\n",
       "      <td>The Photograph</td>\n",
       "      <td>16000000</td>\n",
       "      <td>20700000</td>\n",
       "      <td>1.29</td>\n",
       "      <td>Original</td>\n",
       "      <td>4700000</td>\n",
       "    </tr>\n",
       "    <tr>\n",
       "      <th>10</th>\n",
       "      <td>SONY</td>\n",
       "      <td>2020-02-14</td>\n",
       "      <td>Fantasy Island</td>\n",
       "      <td>7000000</td>\n",
       "      <td>45900000</td>\n",
       "      <td>6.56</td>\n",
       "      <td>IP</td>\n",
       "      <td>38900000</td>\n",
       "    </tr>\n",
       "    <tr>\n",
       "      <th>0</th>\n",
       "      <td>SONY</td>\n",
       "      <td>2020-01-03</td>\n",
       "      <td>The Grudge</td>\n",
       "      <td>10000000</td>\n",
       "      <td>49400000</td>\n",
       "      <td>4.94</td>\n",
       "      <td>Franchise</td>\n",
       "      <td>39400000</td>\n",
       "    </tr>\n",
       "    <tr>\n",
       "      <th>4</th>\n",
       "      <td>UNIVERSAL</td>\n",
       "      <td>2020-01-17</td>\n",
       "      <td>Dolittle</td>\n",
       "      <td>175000000</td>\n",
       "      <td>223300000</td>\n",
       "      <td>1.28</td>\n",
       "      <td>Reboot</td>\n",
       "      <td>48300000</td>\n",
       "    </tr>\n",
       "    <tr>\n",
       "      <th>7</th>\n",
       "      <td>WARNER</td>\n",
       "      <td>2020-02-07</td>\n",
       "      <td>Birds of Prey</td>\n",
       "      <td>84500000</td>\n",
       "      <td>197900000</td>\n",
       "      <td>2.34</td>\n",
       "      <td>Franchise</td>\n",
       "      <td>113400000</td>\n",
       "    </tr>\n",
       "    <tr>\n",
       "      <th>13</th>\n",
       "      <td>UNIVERSAL</td>\n",
       "      <td>2020-02-28</td>\n",
       "      <td>The Invisible Man</td>\n",
       "      <td>7000000</td>\n",
       "      <td>122700000</td>\n",
       "      <td>17.53</td>\n",
       "      <td>Novel</td>\n",
       "      <td>115700000</td>\n",
       "    </tr>\n",
       "    <tr>\n",
       "      <th>9</th>\n",
       "      <td>PARAMOUNT</td>\n",
       "      <td>2020-02-14</td>\n",
       "      <td>Sonic the Hedgehog</td>\n",
       "      <td>85000000</td>\n",
       "      <td>299600000</td>\n",
       "      <td>3.52</td>\n",
       "      <td>IP</td>\n",
       "      <td>214600000</td>\n",
       "    </tr>\n",
       "    <tr>\n",
       "      <th>3</th>\n",
       "      <td>SONY</td>\n",
       "      <td>2020-01-17</td>\n",
       "      <td>Bad Boys for Life</td>\n",
       "      <td>90000000</td>\n",
       "      <td>417600000</td>\n",
       "      <td>4.64</td>\n",
       "      <td>Sequel</td>\n",
       "      <td>327600000</td>\n",
       "    </tr>\n",
       "  </tbody>\n",
       "</table>\n",
       "</div>"
      ],
      "text/plain": [
       "       STUDIO       DATE                   MOVIE     BUDGET  BOX OFFICE  \\\n",
       "14     DISNEY 2020-03-06                  Onward  175000000   101700000   \n",
       "6   PARAMOUNT 2020-01-31      The Rhythm Section   50000000     5900000   \n",
       "12        FOX 2020-02-21    The Call of the Wild  135000000   107300000   \n",
       "1         FOX 2020-01-10              Underwater   65000000    39200000   \n",
       "17       SONY 2020-03-13               Bloodshot   45000000    24400000   \n",
       "15     WARNER 2020-03-06            The Way Back   25000000    14100000   \n",
       "18  UNIVERSAL 2020-03-13                The Hunt   14000000     6000000   \n",
       "8         FOX 2020-02-14  Downhill (Searchlight)   15000000     8800000   \n",
       "2   PARAMOUNT 2020-01-10             Like A Boss   29000000    26100000   \n",
       "16  LIONSGATE 2020-03-13         I Still Believe    7000000     9500000   \n",
       "5   UNIVERSAL 2020-01-24             The Turning   14000000    18500000   \n",
       "11  UNIVERSAL 2020-02-14          The Photograph   16000000    20700000   \n",
       "10       SONY 2020-02-14          Fantasy Island    7000000    45900000   \n",
       "0        SONY 2020-01-03              The Grudge   10000000    49400000   \n",
       "4   UNIVERSAL 2020-01-17                Dolittle  175000000   223300000   \n",
       "7      WARNER 2020-02-07           Birds of Prey   84500000   197900000   \n",
       "13  UNIVERSAL 2020-02-28       The Invisible Man    7000000   122700000   \n",
       "9   PARAMOUNT 2020-02-14      Sonic the Hedgehog   85000000   299600000   \n",
       "3        SONY 2020-01-17       Bad Boys for Life   90000000   417600000   \n",
       "\n",
       "    MULTIPLIER       TYPE  GROSS PROFIT  \n",
       "14        0.58   Original     -73300000  \n",
       "6         0.12      Novel     -44100000  \n",
       "12        0.79      Novel     -27700000  \n",
       "1         0.60   Original     -25800000  \n",
       "17        0.54         IP     -20600000  \n",
       "15        0.56   Original     -10900000  \n",
       "18        0.43   Original      -8000000  \n",
       "8         0.59   Original      -6200000  \n",
       "2         0.90   Original      -2900000  \n",
       "16        1.36     Biopic       2500000  \n",
       "5         1.32      Novel       4500000  \n",
       "11        1.29   Original       4700000  \n",
       "10        6.56         IP      38900000  \n",
       "0         4.94  Franchise      39400000  \n",
       "4         1.28     Reboot      48300000  \n",
       "7         2.34  Franchise     113400000  \n",
       "13       17.53      Novel     115700000  \n",
       "9         3.52         IP     214600000  \n",
       "3         4.64     Sequel     327600000  "
      ]
     },
     "execution_count": 3,
     "metadata": {},
     "output_type": "execute_result"
    }
   ],
   "source": [
    "# add a new column to the DataFrame that calculates the revenue (BOX OFFICE - BUDGET)\n",
    "df_sorted['GROSS PROFIT'] = df_sorted['BOX OFFICE'] - df_sorted['BUDGET']\n",
    "\n",
    "# Resort the data by Gross Profit. \n",
    "\n",
    "df_sorted2 = df_sorted.sort_values(by='GROSS PROFIT')\n",
    "df_sorted2\n"
   ]
  },
  {
   "cell_type": "code",
   "execution_count": 4,
   "metadata": {},
   "outputs": [
    {
     "data": {
      "image/png": "[encoded data removed]",
      "text/plain": [
       "<Figure size 432x288 with 1 Axes>"
      ]
     },
     "metadata": {
      "needs_background": "light"
     },
     "output_type": "display_data"
    }
   ],
   "source": [
    "#Now plot the data by movie name and budget/ \n",
    "plt.yticks([0, 50000000, 100000000, 150000000, 200000000], ['0', '50', '100', '150', '200']);\n",
    "# add y label for millions of dollars\n",
    "plt.ylabel('Millions of Dollars');\n",
    "plt.xlabel('Increasing GROSS PROFIT ------>');\n",
    "# add a title to the top of the graph\n",
    "plt.title('2020 Movie Budgets Sorted by Gross Profit');\n",
    "# rotate x axis labels 90 degrees\n",
    "plt.xticks(rotation=90);\n",
    "\n",
    "plt.bar(df_sorted2['MOVIE'], df_sorted2['BUDGET']);\n",
    "\n",
    "#would be good to add a coloration across the X-axis that maps to sort ranges for Gross Profit) "
   ]
  },
  {
   "cell_type": "markdown",
   "metadata": {},
   "source": [
    "Now let's practice loading up our actual datasets and generating plots. Similar to how we used pd.read_excel to load an excel file, we can use pd.read_csv can be used to load a csv file."
   ]
  },
  {
   "cell_type": "markdown",
   "metadata": {},
   "source": [
    "Viewing the data this way, it looks like there is one cluster of higher movie budgets associated with the lowest Gross Profits (losses) and another cluster of higher movie budgets associated with the highest gross profits, however, it looks like the sum of the budgets near the low grossing (loss) end of the Profit spectrum is larger than that at the high end. \n",
    "\n",
    "This could indicate a weak anti-correlation between film budgets and Gross Profit or that there is no correlation. Let’s use our statistical tests to quantify the correlation. \n"
   ]
  },
  {
   "cell_type": "markdown",
   "metadata": {},
   "source": [
    "Let's test the data sets for normality and linearity. \n"
   ]
  },
  {
   "cell_type": "code",
   "execution_count": 5,
   "metadata": {},
   "outputs": [
    {
     "data": {
      "text/plain": [
       "(array([8., 2., 2., 1., 3., 0., 0., 1., 0., 2.]),\n",
       " array([7.000e+06, 2.380e+07, 4.060e+07, 5.740e+07, 7.420e+07, 9.100e+07,\n",
       "        1.078e+08, 1.246e+08, 1.414e+08, 1.582e+08, 1.750e+08]),\n",
       " <a list of 10 Patch objects>)"
      ]
     },
     "execution_count": 5,
     "metadata": {},
     "output_type": "execute_result"
    },
    {
     "data": {
      "image/png": "[encoded data removed]",
      "text/plain": [
       "<Figure size 432x288 with 1 Axes>"
      ]
     },
     "metadata": {
      "needs_background": "light"
     },
     "output_type": "display_data"
    }
   ],
   "source": [
    "# Test for normality for Movie BUDGET using the hist function, a histogram, \n",
    "# which shows bars with heights that represent the most frequently occurring values for Budget in the data. \n",
    "from matplotlib import pyplot \n",
    "plt.title('Histogram of BUDGET');\n",
    "pyplot.hist(df_sorted2['BUDGET'])\n"
   ]
  },
  {
   "cell_type": "markdown",
   "metadata": {},
   "source": [
    "How to read the plot: Movie budget is on the X-axis and the Y axis shows how many movies fit in each of the bar's budget category. For example, the plot shows eight movies that have budgets between 0 and 25 million dollars. \n",
    "\n",
    "The most frequently occurring BUDGET values skew to the low end of the movie budgets. This histogram does not show a Bell Curve so budget is not a normally distributed variable. For further explanation on how to test for normality in Python, refer to: https://www.statology.org/normality-test-python/ "
   ]
  },
  {
   "cell_type": "markdown",
   "metadata": {},
   "source": [
    "### Exercise\n",
    "\n",
    "1. In the cell below make a histogram for the GROSS PROFIT data. \n",
    "\n",
    "2. Give it an approproate title.\n",
    "\n",
    "3. Does the GROSS PROFIT Data look normally distributed?\n",
    "\n",
    "4. What Gross profit range contains most of the movies? "
   ]
  },
  {
   "cell_type": "code",
   "execution_count": 6,
   "metadata": {},
   "outputs": [],
   "source": [
    "# TO DO: Let's look at the histogram for GROSS PROFIT."
   ]
  },
  {
   "cell_type": "markdown",
   "metadata": {},
   "source": [
    "\n",
    "## Let's look at the linearity or monotonicity of the data using a scatter plot. "
   ]
  },
  {
   "cell_type": "code",
   "execution_count": 7,
   "metadata": {},
   "outputs": [
    {
     "data": {
      "image/png": "[encoded data removed]",
      "text/plain": [
       "<Figure size 432x288 with 1 Axes>"
      ]
     },
     "metadata": {
      "needs_background": "light"
     },
     "output_type": "display_data"
    }
   ],
   "source": [
    "# Scatter plot  GROSS PROFIT vs \n",
    "plt.scatter(df_sorted2['GROSS PROFIT'], df_sorted2['BUDGET'])\n",
    "\n",
    "plt.ylabel('BUDGET');\n",
    "plt.xlabel('GROSS PROFIT');"
   ]
  },
  {
   "cell_type": "markdown",
   "metadata": {},
   "source": [
    "There does seem to be a small clustering of the data in the lower left of the plot, where 12 points fall in what might be a negatively sloping monotonic trend. There are however, 7 points that don't seem to be part of that trend, so it is not a strong trend."
   ]
  },
  {
   "cell_type": "markdown",
   "metadata": {},
   "source": [
    "## Determining What Correlation Test to Use \n",
    "Looks like we don't have a normal distribution for our data, so the Pearson Coefficient won't be a good way to quantify the correlation.\n",
    "\n",
    "Since more than half our data seems to display a monotonic trend, let's look at the Spearman correlation using the scipy stats package. "
   ]
  },
  {
   "cell_type": "code",
   "execution_count": 8,
   "metadata": {},
   "outputs": [
    {
     "data": {
      "text/plain": [
       "SpearmanrResult(correlation=-0.16358895993917005, pvalue=0.5033749317021476)"
      ]
     },
     "execution_count": 8,
     "metadata": {},
     "output_type": "execute_result"
    }
   ],
   "source": [
    "import scipy.stats\n",
    "from scipy.stats import spearmanr\n",
    "corr3 = scipy.stats.spearmanr(df_sorted2['BUDGET'], df_sorted2['GROSS PROFIT'])\n",
    "corr3"
   ]
  },
  {
   "cell_type": "markdown",
   "metadata": {},
   "source": [
    "## Interpreting the Spearman Rank Score and P-value\n",
    " \n",
    "The Spearman rank is small and negative, which might indicate a very week monotonic anti-correlation between BUDGET and GROSS PROFIT. However, Scipy also gives the p-value, P-values near 1 indicate low statistical significance for the correlation and P values near 0 indicate high statistical significance. The P-value for this is ~0.5, which indicates only a moderate chance that the weak anti-correlation seen in this data is statistically significant."
   ]
  },
  {
   "cell_type": "markdown",
   "metadata": {},
   "source": [
    "Let us explore if there is a statistically significant correlation (p-value < 0.05) between other variables, such as the gross profit and the multiplier. \n",
    "\n",
    "- Multiplier: a measure of box-office performance, which is measured by the total box office (amount of money it makes or number of people who watch the film) divided by its box office on the opening weekend. \n",
    "\n",
    "(Source: https://www.the-numbers.com/glossary#:~:text=its%20VOD%20revenue.-,Multiplier,much%20wider%20range%20of%20possibilities, https://www.collinsdictionary.com/us/dictionary/english/box-office#:~:text=When%20people%20talk%20about%20the,million%20at%20the%20box%20office)"
   ]
  },
  {
   "cell_type": "code",
   "execution_count": 9,
   "metadata": {},
   "outputs": [
    {
     "data": {
      "image/png": "[encoded data removed]",
      "text/plain": [
       "<Figure size 432x288 with 1 Axes>"
      ]
     },
     "metadata": {
      "needs_background": "light"
     },
     "output_type": "display_data"
    }
   ],
   "source": [
    "# Plot Scatter plot for Gross Profit and Multiplier\n",
    "plt.scatter(df_sorted2['GROSS PROFIT'], df_sorted2['MULTIPLIER'])\n",
    "\n",
    "plt.ylabel('MULTIPLIER');\n",
    "plt.xlabel('GROSS PROFIT');"
   ]
  },
  {
   "cell_type": "code",
   "execution_count": 10,
   "metadata": {},
   "outputs": [
    {
     "data": {
      "text/plain": [
       "SpearmanrResult(correlation=0.83859649122807, pvalue=7.293998331953686e-06)"
      ]
     },
     "execution_count": 10,
     "metadata": {},
     "output_type": "execute_result"
    }
   ],
   "source": [
    "# Calculate correlation coefficient between Gross Profit and Multiplier\n",
    "import scipy.stats\n",
    "from scipy.stats import spearmanr\n",
    "corr4 = scipy.stats.spearmanr(df_sorted2['GROSS PROFIT'], df_sorted2['MULTIPLIER'])\n",
    "corr4"
   ]
  },
  {
   "cell_type": "markdown",
   "metadata": {},
   "source": [
    "### Interpreting a statistically significant p-value\n",
    "Null hypothesis, H0: There is no [monotonic] association between Gross Profit and the Multiplier\n",
    "\n",
    "Alternative hypothesis, H1: There is a [monotonic] association between Gross Profit and the Multiplier\n",
    "\n",
    "Notice that the p-value = 7.29e-06 is less than 0.05, which indicates that there is less than a 5% chance that the strength of the relationship found (spearman's coefficient = 0.84) happened by chance if the null hypothesis were true.\n",
    "\n",
    "Note: https://statistics.laerd.com/statistical-guides/spearmans-rank-order-correlation-statistical-guide-2.php"
   ]
  },
  {
   "cell_type": "markdown",
   "metadata": {},
   "source": [
    "## Plotting Correlation Matrix\n",
    "\n",
    "Another way to visualize the correlation between variables is to use a correlation matrix.\n",
    "- Each cell in the grid represents the correlation coefficient between 2 variables\n",
    "- The value at (a,b) represents the correlation coefficient between the variables in row A and column B\n",
    "- The diagonals have a coefficient coefficient of 1, as it represents the coefficient of each variable with itself\n",
    "\n",
    "The Pandas package contains a function, `corr` that computes the coefficient matrix between the variables, and allows for the selection of `'method'` of correlation, such as spearman or pearson. \n",
    "\n",
    "For more information on how to interpret the correlation matrix, see https://likegeeks.com/python-correlation-matrix/"
   ]
  },
  {
   "cell_type": "code",
   "execution_count": 11,
   "metadata": {},
   "outputs": [],
   "source": [
    "# Select columns (budget, multiplier, gross profit) to see if there is a correlation between these variables\n",
    "test = df_sorted2[[\"BUDGET\", \"MULTIPLIER\", \"GROSS PROFIT\"]]"
   ]
  },
  {
   "cell_type": "code",
   "execution_count": 12,
   "metadata": {},
   "outputs": [
    {
     "name": "stderr",
     "output_type": "stream",
     "text": [
      "/opt/anaconda3/lib/python3.7/site-packages/statsmodels/tools/_testing.py:19: FutureWarning: pandas.util.testing is deprecated. Use the functions in the public API at pandas.testing instead.\n",
      "  import pandas.util.testing as tm\n"
     ]
    },
    {
     "data": {
      "text/html": [
       "<div>\n",
       "<style scoped>\n",
       "    .dataframe tbody tr th:only-of-type {\n",
       "        vertical-align: middle;\n",
       "    }\n",
       "\n",
       "    .dataframe tbody tr th {\n",
       "        vertical-align: top;\n",
       "    }\n",
       "\n",
       "    .dataframe thead th {\n",
       "        text-align: right;\n",
       "    }\n",
       "</style>\n",
       "<table border=\"1\" class=\"dataframe\">\n",
       "  <thead>\n",
       "    <tr style=\"text-align: right;\">\n",
       "      <th></th>\n",
       "      <th>BUDGET</th>\n",
       "      <th>MULTIPLIER</th>\n",
       "      <th>GROSS PROFIT</th>\n",
       "    </tr>\n",
       "  </thead>\n",
       "  <tbody>\n",
       "    <tr>\n",
       "      <th>BUDGET</th>\n",
       "      <td>1.000000</td>\n",
       "      <td>-0.303431</td>\n",
       "      <td>-0.163589</td>\n",
       "    </tr>\n",
       "    <tr>\n",
       "      <th>MULTIPLIER</th>\n",
       "      <td>-0.303431</td>\n",
       "      <td>1.000000</td>\n",
       "      <td>0.838596</td>\n",
       "    </tr>\n",
       "    <tr>\n",
       "      <th>GROSS PROFIT</th>\n",
       "      <td>-0.163589</td>\n",
       "      <td>0.838596</td>\n",
       "      <td>1.000000</td>\n",
       "    </tr>\n",
       "  </tbody>\n",
       "</table>\n",
       "</div>"
      ],
      "text/plain": [
       "                BUDGET  MULTIPLIER  GROSS PROFIT\n",
       "BUDGET        1.000000   -0.303431     -0.163589\n",
       "MULTIPLIER   -0.303431    1.000000      0.838596\n",
       "GROSS PROFIT -0.163589    0.838596      1.000000"
      ]
     },
     "execution_count": 12,
     "metadata": {},
     "output_type": "execute_result"
    }
   ],
   "source": [
    "# Calculating the correlation matrix using the .corr function in pandas\n",
    "import pandas as pd\n",
    "import seaborn as sns\n",
    "import matplotlib.pyplot as plt\n",
    "\n",
    "# Specify the method \n",
    "corr_matrix = test.corr(method = 'spearman')\n",
    "corr_matrix"
   ]
  },
  {
   "cell_type": "code",
   "execution_count": 13,
   "metadata": {},
   "outputs": [
    {
     "data": {
      "text/plain": [
       "<function matplotlib.pyplot.show(*args, **kw)>"
      ]
     },
     "execution_count": 13,
     "metadata": {},
     "output_type": "execute_result"
    },
    {
     "data": {
      "image/png": "[encoded data removed]",
      "text/plain": [
       "<Figure size 1152x432 with 2 Axes>"
      ]
     },
     "metadata": {
      "needs_background": "light"
     },
     "output_type": "display_data"
    }
   ],
   "source": [
    "# Plot the Correlation Matrix\n",
    "plt.figure(figsize=(16, 6))\n",
    "sns.heatmap(corr_matrix, annot=False, vmax=1, vmin=-1, cmap='vlag')\n",
    "plt.show"
   ]
  },
  {
   "cell_type": "markdown",
   "metadata": {},
   "source": [
    "## Moving Forward\n",
    "\n",
    "Using the \"CtyAvDemog2010.csv\" dataset, can you apply these statistical tests to test for correlation between the variables?\n",
    "\n",
    "Apply these principles to Big Question 3:\n",
    "1. Do counties with many people living below the poverty line have more power outages on average than wealthier counties?\n",
    "2. Can you use statistical tests to justify your answer?\n",
    "3. Is what you found true generally for all counties in the study?\n",
    "4. Is it still true for the counties hardest hit by the heatwave during the heatwave?\n",
    "5. Are there any other factors expressed in the data that correlate with large numbers of outages per county?"
   ]
  },
  {
   "cell_type": "code",
   "execution_count": null,
   "metadata": {},
   "outputs": [],
   "source": []
  }
 ],
 "metadata": {
  "kernelspec": {
   "display_name": "Python 3 (ipykernel)",
   "language": "python",
   "name": "python3"
  },
  "language_info": {
   "codemirror_mode": {
    "name": "ipython",
    "version": 3
   },
   "file_extension": ".py",
   "mimetype": "text/x-python",
   "name": "python",
   "nbconvert_exporter": "python",
   "pygments_lexer": "ipython3",
   "version": "3.11.4"
  }
 },
 "nbformat": 4,
 "nbformat_minor": 2
}
